{
 "cells": [
  {
   "cell_type": "code",
   "execution_count": 1,
   "metadata": {},
   "outputs": [
    {
     "name": "stdout",
     "output_type": "stream",
     "text": [
      "[('conversions',), ('conversions_backend',), ('api_adwords_costs',), ('attribution_customer_journey',), ('session_sources',)]\n"
     ]
    }
   ],
   "source": [
    "import sqlite3\n",
    "dbfile = r'C:\\Users\\Venky.DESKTOP-GRS8ME6\\Downloads\\Haensel_Task\\challenge.db'\n",
    "con = sqlite3.connect(dbfile)\n",
    "cur = con.cursor()\n",
    "table_list = [a for a in cur.execute(\"SELECT name FROM sqlite_master WHERE type = 'table'\")]\n",
    "print(table_list)"
   ]
  },
  {
   "cell_type": "code",
   "execution_count": 173,
   "metadata": {},
   "outputs": [
    {
     "data": {
      "text/html": [
       "<div>\n",
       "<style scoped>\n",
       "    .dataframe tbody tr th:only-of-type {\n",
       "        vertical-align: middle;\n",
       "    }\n",
       "\n",
       "    .dataframe tbody tr th {\n",
       "        vertical-align: top;\n",
       "    }\n",
       "\n",
       "    .dataframe thead th {\n",
       "        text-align: right;\n",
       "    }\n",
       "</style>\n",
       "<table border=\"1\" class=\"dataframe\">\n",
       "  <thead>\n",
       "    <tr style=\"text-align: right;\">\n",
       "      <th></th>\n",
       "      <th>event_date</th>\n",
       "      <th>campaign_id</th>\n",
       "      <th>cost</th>\n",
       "      <th>clicks</th>\n",
       "    </tr>\n",
       "  </thead>\n",
       "  <tbody>\n",
       "    <tr>\n",
       "      <td>0</td>\n",
       "      <td>2021-07-04</td>\n",
       "      <td>campaign_id_149</td>\n",
       "      <td>3554.289</td>\n",
       "      <td>5256</td>\n",
       "    </tr>\n",
       "    <tr>\n",
       "      <td>1</td>\n",
       "      <td>2021-07-03</td>\n",
       "      <td>campaign_id_149</td>\n",
       "      <td>3021.879</td>\n",
       "      <td>6180</td>\n",
       "    </tr>\n",
       "    <tr>\n",
       "      <td>2</td>\n",
       "      <td>2021-07-01</td>\n",
       "      <td>campaign_id_149</td>\n",
       "      <td>2986.968</td>\n",
       "      <td>7467</td>\n",
       "    </tr>\n",
       "    <tr>\n",
       "      <td>3</td>\n",
       "      <td>2021-07-02</td>\n",
       "      <td>campaign_id_149</td>\n",
       "      <td>2596.872</td>\n",
       "      <td>4761</td>\n",
       "    </tr>\n",
       "    <tr>\n",
       "      <td>4</td>\n",
       "      <td>2021-07-28</td>\n",
       "      <td>campaign_id_149</td>\n",
       "      <td>2553.928</td>\n",
       "      <td>3479</td>\n",
       "    </tr>\n",
       "  </tbody>\n",
       "</table>\n",
       "</div>"
      ],
      "text/plain": [
       "   event_date      campaign_id      cost  clicks\n",
       "0  2021-07-04  campaign_id_149  3554.289    5256\n",
       "1  2021-07-03  campaign_id_149  3021.879    6180\n",
       "2  2021-07-01  campaign_id_149  2986.968    7467\n",
       "3  2021-07-02  campaign_id_149  2596.872    4761\n",
       "4  2021-07-28  campaign_id_149  2553.928    3479"
      ]
     },
     "execution_count": 173,
     "metadata": {},
     "output_type": "execute_result"
    }
   ],
   "source": [
    "api = pd.read_sql_query(\"SELECT * FROM api_adwords_costs\",con)\n",
    "api.head()"
   ]
  },
  {
   "cell_type": "code",
   "execution_count": 185,
   "metadata": {},
   "outputs": [
    {
     "data": {
      "text/html": [
       "<div>\n",
       "<style scoped>\n",
       "    .dataframe tbody tr th:only-of-type {\n",
       "        vertical-align: middle;\n",
       "    }\n",
       "\n",
       "    .dataframe tbody tr th {\n",
       "        vertical-align: top;\n",
       "    }\n",
       "\n",
       "    .dataframe thead th {\n",
       "        text-align: right;\n",
       "    }\n",
       "</style>\n",
       "<table border=\"1\" class=\"dataframe\">\n",
       "  <thead>\n",
       "    <tr style=\"text-align: right;\">\n",
       "      <th></th>\n",
       "      <th>session_id</th>\n",
       "      <th>user_id</th>\n",
       "      <th>event_date</th>\n",
       "      <th>event_time</th>\n",
       "      <th>channel_name</th>\n",
       "      <th>campaign_name</th>\n",
       "      <th>campaign_id</th>\n",
       "      <th>market</th>\n",
       "      <th>cpc</th>\n",
       "    </tr>\n",
       "  </thead>\n",
       "  <tbody>\n",
       "    <tr>\n",
       "      <td>0</td>\n",
       "      <td>session_id_660241</td>\n",
       "      <td>user_id_814496</td>\n",
       "      <td>2021-07-03</td>\n",
       "      <td>05:30:20</td>\n",
       "      <td>Affiliate</td>\n",
       "      <td>campaign_name_716</td>\n",
       "      <td>notset</td>\n",
       "      <td>NL</td>\n",
       "      <td>0.018</td>\n",
       "    </tr>\n",
       "    <tr>\n",
       "      <td>1</td>\n",
       "      <td>session_id_9812</td>\n",
       "      <td>user_id_752875</td>\n",
       "      <td>2021-07-19</td>\n",
       "      <td>16:00:40</td>\n",
       "      <td>Affiliate</td>\n",
       "      <td>campaign_name_108</td>\n",
       "      <td>notset</td>\n",
       "      <td>FR</td>\n",
       "      <td>0.000</td>\n",
       "    </tr>\n",
       "    <tr>\n",
       "      <td>2</td>\n",
       "      <td>session_id_780253</td>\n",
       "      <td>user_id_156905</td>\n",
       "      <td>2021-07-31</td>\n",
       "      <td>07:50:23</td>\n",
       "      <td>Affiliate</td>\n",
       "      <td>campaign_name_741</td>\n",
       "      <td>notset</td>\n",
       "      <td>DE</td>\n",
       "      <td>0.022</td>\n",
       "    </tr>\n",
       "    <tr>\n",
       "      <td>3</td>\n",
       "      <td>session_id_785994</td>\n",
       "      <td>user_id_540849</td>\n",
       "      <td>2021-07-16</td>\n",
       "      <td>09:43:00</td>\n",
       "      <td>Affiliate</td>\n",
       "      <td>campaign_name_741</td>\n",
       "      <td>notset</td>\n",
       "      <td>DE</td>\n",
       "      <td>0.000</td>\n",
       "    </tr>\n",
       "    <tr>\n",
       "      <td>4</td>\n",
       "      <td>session_id_1240841</td>\n",
       "      <td>user_id_275214</td>\n",
       "      <td>2021-07-12</td>\n",
       "      <td>08:36:41</td>\n",
       "      <td>Affiliate</td>\n",
       "      <td>campaign_name_893</td>\n",
       "      <td>notset</td>\n",
       "      <td>NL</td>\n",
       "      <td>0.188</td>\n",
       "    </tr>\n",
       "  </tbody>\n",
       "</table>\n",
       "</div>"
      ],
      "text/plain": [
       "           session_id         user_id  event_date event_time channel_name  \\\n",
       "0   session_id_660241  user_id_814496  2021-07-03   05:30:20    Affiliate   \n",
       "1     session_id_9812  user_id_752875  2021-07-19   16:00:40    Affiliate   \n",
       "2   session_id_780253  user_id_156905  2021-07-31   07:50:23    Affiliate   \n",
       "3   session_id_785994  user_id_540849  2021-07-16   09:43:00    Affiliate   \n",
       "4  session_id_1240841  user_id_275214  2021-07-12   08:36:41    Affiliate   \n",
       "\n",
       "       campaign_name campaign_id market    cpc  \n",
       "0  campaign_name_716      notset     NL  0.018  \n",
       "1  campaign_name_108      notset     FR  0.000  \n",
       "2  campaign_name_741      notset     DE  0.022  \n",
       "3  campaign_name_741      notset     DE  0.000  \n",
       "4  campaign_name_893      notset     NL  0.188  "
      ]
     },
     "execution_count": 185,
     "metadata": {},
     "output_type": "execute_result"
    }
   ],
   "source": [
    "df = pd.read_sql_query(\"SELECT * FROM session_sources\",con)\n",
    "df.head()"
   ]
  },
  {
   "cell_type": "markdown",
   "metadata": {},
   "source": [
    "### Question 1"
   ]
  },
  {
   "cell_type": "markdown",
   "metadata": {},
   "source": [
    "#### The costs in the 'api_adwords_costs' table are not fully covered in the 'session_sources' table. \n",
    "#### From the below two queries we can see that the count of campaign id's do not match."
   ]
  },
  {
   "cell_type": "code",
   "execution_count": 5,
   "metadata": {},
   "outputs": [
    {
     "data": {
      "text/html": [
       "<div>\n",
       "<style scoped>\n",
       "    .dataframe tbody tr th:only-of-type {\n",
       "        vertical-align: middle;\n",
       "    }\n",
       "\n",
       "    .dataframe tbody tr th {\n",
       "        vertical-align: top;\n",
       "    }\n",
       "\n",
       "    .dataframe thead th {\n",
       "        text-align: right;\n",
       "    }\n",
       "</style>\n",
       "<table border=\"1\" class=\"dataframe\">\n",
       "  <thead>\n",
       "    <tr style=\"text-align: right;\">\n",
       "      <th></th>\n",
       "      <th>COUNT(DISTINCT(campaign_id))</th>\n",
       "    </tr>\n",
       "  </thead>\n",
       "  <tbody>\n",
       "    <tr>\n",
       "      <td>0</td>\n",
       "      <td>109</td>\n",
       "    </tr>\n",
       "  </tbody>\n",
       "</table>\n",
       "</div>"
      ],
      "text/plain": [
       "   COUNT(DISTINCT(campaign_id))\n",
       "0                           109"
      ]
     },
     "execution_count": 5,
     "metadata": {},
     "output_type": "execute_result"
    }
   ],
   "source": [
    "df1 = pd.read_sql_query(\"SELECT COUNT(DISTINCT(campaign_id)) FROM api_adwords_costs\",con)\n",
    "df1"
   ]
  },
  {
   "cell_type": "code",
   "execution_count": 6,
   "metadata": {},
   "outputs": [
    {
     "data": {
      "text/html": [
       "<div>\n",
       "<style scoped>\n",
       "    .dataframe tbody tr th:only-of-type {\n",
       "        vertical-align: middle;\n",
       "    }\n",
       "\n",
       "    .dataframe tbody tr th {\n",
       "        vertical-align: top;\n",
       "    }\n",
       "\n",
       "    .dataframe thead th {\n",
       "        text-align: right;\n",
       "    }\n",
       "</style>\n",
       "<table border=\"1\" class=\"dataframe\">\n",
       "  <thead>\n",
       "    <tr style=\"text-align: right;\">\n",
       "      <th></th>\n",
       "      <th>COUNT(DISTINCT(campaign_id))</th>\n",
       "    </tr>\n",
       "  </thead>\n",
       "  <tbody>\n",
       "    <tr>\n",
       "      <td>0</td>\n",
       "      <td>164</td>\n",
       "    </tr>\n",
       "  </tbody>\n",
       "</table>\n",
       "</div>"
      ],
      "text/plain": [
       "   COUNT(DISTINCT(campaign_id))\n",
       "0                           164"
      ]
     },
     "execution_count": 6,
     "metadata": {},
     "output_type": "execute_result"
    }
   ],
   "source": [
    "df1 = pd.read_sql_query(\"SELECT COUNT(DISTINCT(campaign_id)) FROM session_sources\",con)\n",
    "df1"
   ]
  },
  {
   "cell_type": "code",
   "execution_count": 123,
   "metadata": {},
   "outputs": [
    {
     "data": {
      "text/plain": [
       "count    1.616702e+06\n",
       "mean     4.207788e-01\n",
       "std      1.057887e+00\n",
       "min      0.000000e+00\n",
       "25%      0.000000e+00\n",
       "50%      0.000000e+00\n",
       "75%      6.880000e-01\n",
       "max      4.412500e+02\n",
       "Name: cpc, dtype: float64"
      ]
     },
     "execution_count": 123,
     "metadata": {},
     "output_type": "execute_result"
    }
   ],
   "source": [
    "df.cpc.describe()"
   ]
  },
  {
   "cell_type": "code",
   "execution_count": 186,
   "metadata": {},
   "outputs": [
    {
     "data": {
      "image/png": "[encoded data removed]",
      "text/plain": [
       "<Figure size 432x288 with 1 Axes>"
      ]
     },
     "metadata": {
      "needs_background": "light"
     },
     "output_type": "display_data"
    }
   ],
   "source": [
    "boxplot = df.boxplot(column=['cpc'])"
   ]
  },
  {
   "cell_type": "markdown",
   "metadata": {},
   "source": [
    "#### We have taken the statistical analysis in the above code.\n",
    "#### We have extracted all the campaign id's which has a cost which exceeds  5 times of standard deviation from the mean and consider them to be abnormal.\n",
    "#### This has been taken as cost per click is considered high for these campaigns."
   ]
  },
  {
   "cell_type": "code",
   "execution_count": 175,
   "metadata": {},
   "outputs": [
    {
     "data": {
      "text/plain": [
       "130"
      ]
     },
     "execution_count": 175,
     "metadata": {},
     "output_type": "execute_result"
    }
   ],
   "source": [
    "ab = df.groupby(['campaign_name'])['cpc'].sum()\n",
    "tr = df.cpc.mean()+ 5* df.cpc.std()\n",
    "result = ab[ab > tr ]\n",
    "result.count()"
   ]
  },
  {
   "cell_type": "code",
   "execution_count": 176,
   "metadata": {},
   "outputs": [
    {
     "data": {
      "text/plain": [
       "campaign_name\n",
       "campaign_name_10       4131.524\n",
       "campaign_name_1014    27269.365\n",
       "campaign_name_1015      341.327\n",
       "campaign_name_1022       28.385\n",
       "campaign_name_1032     2691.951\n",
       "Name: cpc, dtype: float64"
      ]
     },
     "execution_count": 176,
     "metadata": {},
     "output_type": "execute_result"
    }
   ],
   "source": [
    "result.head()"
   ]
  },
  {
   "cell_type": "markdown",
   "metadata": {},
   "source": [
    "### Question 2\n",
    "#### Answer provided in excel file."
   ]
  },
  {
   "cell_type": "code",
   "execution_count": 172,
   "metadata": {},
   "outputs": [],
   "source": [
    "df2 = pd.read_sql_query(\"SELECT * FROM conversions\",con)\n",
    "df2.to_excel('df.xlsx')"
   ]
  },
  {
   "cell_type": "markdown",
   "metadata": {},
   "source": [
    "### Question 3"
   ]
  },
  {
   "cell_type": "code",
   "execution_count": 177,
   "metadata": {},
   "outputs": [
    {
     "data": {
      "text/html": [
       "<div>\n",
       "<style scoped>\n",
       "    .dataframe tbody tr th:only-of-type {\n",
       "        vertical-align: middle;\n",
       "    }\n",
       "\n",
       "    .dataframe tbody tr th {\n",
       "        vertical-align: top;\n",
       "    }\n",
       "\n",
       "    .dataframe thead th {\n",
       "        text-align: right;\n",
       "    }\n",
       "</style>\n",
       "<table border=\"1\" class=\"dataframe\">\n",
       "  <thead>\n",
       "    <tr style=\"text-align: right;\">\n",
       "      <th></th>\n",
       "      <th>conv_id</th>\n",
       "      <th>user_id</th>\n",
       "      <th>conv_date</th>\n",
       "      <th>market</th>\n",
       "      <th>revenue</th>\n",
       "    </tr>\n",
       "  </thead>\n",
       "  <tbody>\n",
       "    <tr>\n",
       "      <td>0</td>\n",
       "      <td>conv_id_16788</td>\n",
       "      <td>user_id_569581</td>\n",
       "      <td>2021-07-15</td>\n",
       "      <td>NL</td>\n",
       "      <td>219.73</td>\n",
       "    </tr>\n",
       "    <tr>\n",
       "      <td>1</td>\n",
       "      <td>conv_id_9916</td>\n",
       "      <td>user_id_62541</td>\n",
       "      <td>2021-07-15</td>\n",
       "      <td>DE</td>\n",
       "      <td>104.21</td>\n",
       "    </tr>\n",
       "    <tr>\n",
       "      <td>2</td>\n",
       "      <td>conv_id_8443</td>\n",
       "      <td>user_id_494266</td>\n",
       "      <td>2021-07-15</td>\n",
       "      <td>NL</td>\n",
       "      <td>55.69</td>\n",
       "    </tr>\n",
       "    <tr>\n",
       "      <td>3</td>\n",
       "      <td>conv_id_8107</td>\n",
       "      <td>user_id_215383</td>\n",
       "      <td>2021-07-15</td>\n",
       "      <td>NL</td>\n",
       "      <td>66.12</td>\n",
       "    </tr>\n",
       "    <tr>\n",
       "      <td>4</td>\n",
       "      <td>conv_id_7835</td>\n",
       "      <td>user_id_69012</td>\n",
       "      <td>2021-07-15</td>\n",
       "      <td>AT</td>\n",
       "      <td>25.71</td>\n",
       "    </tr>\n",
       "  </tbody>\n",
       "</table>\n",
       "</div>"
      ],
      "text/plain": [
       "         conv_id         user_id   conv_date market  revenue\n",
       "0  conv_id_16788  user_id_569581  2021-07-15     NL   219.73\n",
       "1   conv_id_9916   user_id_62541  2021-07-15     DE   104.21\n",
       "2   conv_id_8443  user_id_494266  2021-07-15     NL    55.69\n",
       "3   conv_id_8107  user_id_215383  2021-07-15     NL    66.12\n",
       "4   conv_id_7835   user_id_69012  2021-07-15     AT    25.71"
      ]
     },
     "execution_count": 177,
     "metadata": {},
     "output_type": "execute_result"
    }
   ],
   "source": [
    "dfc = pd.read_sql_query(\"SELECT * FROM conversions\",con)\n",
    "dfc.head()"
   ]
  },
  {
   "cell_type": "code",
   "execution_count": 178,
   "metadata": {},
   "outputs": [
    {
     "data": {
      "text/html": [
       "<div>\n",
       "<style scoped>\n",
       "    .dataframe tbody tr th:only-of-type {\n",
       "        vertical-align: middle;\n",
       "    }\n",
       "\n",
       "    .dataframe tbody tr th {\n",
       "        vertical-align: top;\n",
       "    }\n",
       "\n",
       "    .dataframe thead th {\n",
       "        text-align: right;\n",
       "    }\n",
       "</style>\n",
       "<table border=\"1\" class=\"dataframe\">\n",
       "  <thead>\n",
       "    <tr style=\"text-align: right;\">\n",
       "      <th></th>\n",
       "      <th>conv_id</th>\n",
       "      <th>user_id</th>\n",
       "      <th>conv_date</th>\n",
       "      <th>market</th>\n",
       "      <th>revenue</th>\n",
       "    </tr>\n",
       "  </thead>\n",
       "  <tbody>\n",
       "    <tr>\n",
       "      <td>0</td>\n",
       "      <td>conv_id_16788</td>\n",
       "      <td>user_id_569581</td>\n",
       "      <td>2021-07-15</td>\n",
       "      <td>NL</td>\n",
       "      <td>219.73</td>\n",
       "    </tr>\n",
       "    <tr>\n",
       "      <td>1</td>\n",
       "      <td>conv_id_9916</td>\n",
       "      <td>user_id_62541</td>\n",
       "      <td>2021-07-15</td>\n",
       "      <td>DE</td>\n",
       "      <td>104.21</td>\n",
       "    </tr>\n",
       "    <tr>\n",
       "      <td>2</td>\n",
       "      <td>conv_id_8443</td>\n",
       "      <td>user_id_494266</td>\n",
       "      <td>2021-07-15</td>\n",
       "      <td>NL</td>\n",
       "      <td>55.69</td>\n",
       "    </tr>\n",
       "    <tr>\n",
       "      <td>3</td>\n",
       "      <td>conv_id_8107</td>\n",
       "      <td>user_id_215383</td>\n",
       "      <td>2021-07-15</td>\n",
       "      <td>NL</td>\n",
       "      <td>66.12</td>\n",
       "    </tr>\n",
       "    <tr>\n",
       "      <td>4</td>\n",
       "      <td>conv_id_7835</td>\n",
       "      <td>user_id_69012</td>\n",
       "      <td>2021-07-15</td>\n",
       "      <td>AT</td>\n",
       "      <td>25.71</td>\n",
       "    </tr>\n",
       "  </tbody>\n",
       "</table>\n",
       "</div>"
      ],
      "text/plain": [
       "         conv_id         user_id   conv_date market  revenue\n",
       "0  conv_id_16788  user_id_569581  2021-07-15     NL   219.73\n",
       "1   conv_id_9916   user_id_62541  2021-07-15     DE   104.21\n",
       "2   conv_id_8443  user_id_494266  2021-07-15     NL    55.69\n",
       "3   conv_id_8107  user_id_215383  2021-07-15     NL    66.12\n",
       "4   conv_id_7835   user_id_69012  2021-07-15     AT    25.71"
      ]
     },
     "execution_count": 178,
     "metadata": {},
     "output_type": "execute_result"
    }
   ],
   "source": [
    "dfcb = pd.read_sql_query(\"SELECT * FROM conversions_backend\",con)\n",
    "dfcb.head()"
   ]
  },
  {
   "cell_type": "markdown",
   "metadata": {},
   "source": [
    "#### Here are some analysis performed to find the issues between the 'conversions' table and 'conversions_backend' table."
   ]
  },
  {
   "cell_type": "markdown",
   "metadata": {},
   "source": [
    "##### The count of records in the conversions backend table is higher than the conversions table."
   ]
  },
  {
   "cell_type": "code",
   "execution_count": 88,
   "metadata": {},
   "outputs": [
    {
     "data": {
      "text/plain": [
       "16938"
      ]
     },
     "execution_count": 88,
     "metadata": {},
     "output_type": "execute_result"
    }
   ],
   "source": [
    "dfc.conv_id.nunique()"
   ]
  },
  {
   "cell_type": "code",
   "execution_count": 89,
   "metadata": {},
   "outputs": [
    {
     "data": {
      "text/plain": [
       "17283"
      ]
     },
     "execution_count": 89,
     "metadata": {},
     "output_type": "execute_result"
    }
   ],
   "source": [
    "dfcb.conv_id.nunique()"
   ]
  },
  {
   "cell_type": "markdown",
   "metadata": {},
   "source": [
    "#### There are more unique users in the conversions backend table than the conversions table."
   ]
  },
  {
   "cell_type": "code",
   "execution_count": 90,
   "metadata": {},
   "outputs": [
    {
     "data": {
      "text/plain": [
       "16373"
      ]
     },
     "execution_count": 90,
     "metadata": {},
     "output_type": "execute_result"
    }
   ],
   "source": [
    "dfc.user_id.nunique()"
   ]
  },
  {
   "cell_type": "code",
   "execution_count": 91,
   "metadata": {},
   "outputs": [
    {
     "data": {
      "text/plain": [
       "16684"
      ]
     },
     "execution_count": 91,
     "metadata": {},
     "output_type": "execute_result"
    }
   ],
   "source": [
    "dfcb.user_id.nunique()"
   ]
  },
  {
   "cell_type": "markdown",
   "metadata": {},
   "source": [
    "####  Both start and end dates are similar in both the tables."
   ]
  },
  {
   "cell_type": "code",
   "execution_count": 92,
   "metadata": {},
   "outputs": [
    {
     "name": "stdout",
     "output_type": "stream",
     "text": [
      "Start date: 2021-07-15\n",
      "End date: 2021-07-31\n"
     ]
    }
   ],
   "source": [
    "min_date = dfcb.conv_date.min()\n",
    "print(\"Start date:\", min_date)\n",
    "max_date = dfcb.conv_date.max()\n",
    "print(\"End date:\", max_date)"
   ]
  },
  {
   "cell_type": "code",
   "execution_count": 93,
   "metadata": {},
   "outputs": [
    {
     "name": "stdout",
     "output_type": "stream",
     "text": [
      "Starting date: 2021-07-15\n",
      "Ending date: 2021-07-31\n"
     ]
    }
   ],
   "source": [
    "min_date = dfc.conv_date.min()\n",
    "print(\"Starting date:\", min_date)\n",
    "max_date = dfc.conv_date.max()\n",
    "print(\"Ending date:\", max_date)"
   ]
  },
  {
   "cell_type": "markdown",
   "metadata": {},
   "source": [
    "#### The unique values of market column from the both tables are same."
   ]
  },
  {
   "cell_type": "code",
   "execution_count": 94,
   "metadata": {},
   "outputs": [
    {
     "data": {
      "text/plain": [
       "28"
      ]
     },
     "execution_count": 94,
     "metadata": {},
     "output_type": "execute_result"
    }
   ],
   "source": [
    "dfc.market.nunique()"
   ]
  },
  {
   "cell_type": "code",
   "execution_count": 95,
   "metadata": {},
   "outputs": [
    {
     "data": {
      "text/plain": [
       "28"
      ]
     },
     "execution_count": 95,
     "metadata": {},
     "output_type": "execute_result"
    }
   ],
   "source": [
    "dfcb.market.nunique()"
   ]
  },
  {
   "cell_type": "markdown",
   "metadata": {},
   "source": [
    "##### There are more number of records in the conversions backend table:\n",
    "##### 1. Count of revenue is less in 'conversions' table.\n",
    "##### 2. The mean is slightly more in the 'conversions_backend' table indicating that there are different values in both the tables."
   ]
  },
  {
   "cell_type": "code",
   "execution_count": 96,
   "metadata": {},
   "outputs": [
    {
     "data": {
      "text/plain": [
       "count    16954.000000\n",
       "mean        50.082734\n",
       "std         55.872318\n",
       "min          0.000000\n",
       "25%         25.130000\n",
       "50%         39.670000\n",
       "75%         65.340000\n",
       "max       1839.200000\n",
       "Name: revenue, dtype: float64"
      ]
     },
     "execution_count": 96,
     "metadata": {},
     "output_type": "execute_result"
    }
   ],
   "source": [
    "dfc.revenue.describe()"
   ]
  },
  {
   "cell_type": "code",
   "execution_count": 97,
   "metadata": {},
   "outputs": [
    {
     "data": {
      "text/plain": [
       "count    17283.000000\n",
       "mean        50.758020\n",
       "std         56.360585\n",
       "min          0.000000\n",
       "25%         26.180000\n",
       "50%         40.330000\n",
       "75%         65.830000\n",
       "max       1839.200000\n",
       "Name: revenue, dtype: float64"
      ]
     },
     "execution_count": 97,
     "metadata": {},
     "output_type": "execute_result"
    }
   ],
   "source": [
    "dfcb.revenue.describe()"
   ]
  },
  {
   "cell_type": "markdown",
   "metadata": {},
   "source": [
    "### Question 4"
   ]
  },
  {
   "cell_type": "code",
   "execution_count": 187,
   "metadata": {},
   "outputs": [
    {
     "data": {
      "text/html": [
       "<div>\n",
       "<style scoped>\n",
       "    .dataframe tbody tr th:only-of-type {\n",
       "        vertical-align: middle;\n",
       "    }\n",
       "\n",
       "    .dataframe tbody tr th {\n",
       "        vertical-align: top;\n",
       "    }\n",
       "\n",
       "    .dataframe thead th {\n",
       "        text-align: right;\n",
       "    }\n",
       "</style>\n",
       "<table border=\"1\" class=\"dataframe\">\n",
       "  <thead>\n",
       "    <tr style=\"text-align: right;\">\n",
       "      <th></th>\n",
       "      <th>conv_id</th>\n",
       "      <th>user_id</th>\n",
       "      <th>conv_date</th>\n",
       "      <th>market</th>\n",
       "      <th>revenue</th>\n",
       "    </tr>\n",
       "  </thead>\n",
       "  <tbody>\n",
       "    <tr>\n",
       "      <td>0</td>\n",
       "      <td>conv_id_16788</td>\n",
       "      <td>user_id_569581</td>\n",
       "      <td>2021-07-15</td>\n",
       "      <td>NL</td>\n",
       "      <td>219.73</td>\n",
       "    </tr>\n",
       "    <tr>\n",
       "      <td>1</td>\n",
       "      <td>conv_id_9916</td>\n",
       "      <td>user_id_62541</td>\n",
       "      <td>2021-07-15</td>\n",
       "      <td>DE</td>\n",
       "      <td>104.21</td>\n",
       "    </tr>\n",
       "    <tr>\n",
       "      <td>2</td>\n",
       "      <td>conv_id_8443</td>\n",
       "      <td>user_id_494266</td>\n",
       "      <td>2021-07-15</td>\n",
       "      <td>NL</td>\n",
       "      <td>55.69</td>\n",
       "    </tr>\n",
       "    <tr>\n",
       "      <td>3</td>\n",
       "      <td>conv_id_8107</td>\n",
       "      <td>user_id_215383</td>\n",
       "      <td>2021-07-15</td>\n",
       "      <td>NL</td>\n",
       "      <td>66.12</td>\n",
       "    </tr>\n",
       "    <tr>\n",
       "      <td>4</td>\n",
       "      <td>conv_id_7835</td>\n",
       "      <td>user_id_69012</td>\n",
       "      <td>2021-07-15</td>\n",
       "      <td>AT</td>\n",
       "      <td>25.71</td>\n",
       "    </tr>\n",
       "  </tbody>\n",
       "</table>\n",
       "</div>"
      ],
      "text/plain": [
       "         conv_id         user_id   conv_date market  revenue\n",
       "0  conv_id_16788  user_id_569581  2021-07-15     NL   219.73\n",
       "1   conv_id_9916   user_id_62541  2021-07-15     DE   104.21\n",
       "2   conv_id_8443  user_id_494266  2021-07-15     NL    55.69\n",
       "3   conv_id_8107  user_id_215383  2021-07-15     NL    66.12\n",
       "4   conv_id_7835   user_id_69012  2021-07-15     AT    25.71"
      ]
     },
     "execution_count": 187,
     "metadata": {},
     "output_type": "execute_result"
    }
   ],
   "source": [
    "df4 = pd.read_sql_query(\"SELECT * FROM conversions\",con)\n",
    "df4.head()"
   ]
  },
  {
   "cell_type": "markdown",
   "metadata": {},
   "source": [
    "#### The attibution levels are not consistent. \n",
    "#### As per the problem statement sum of ihc should be 1 for each conv_id but I have found this is not the case.\n",
    "#### As per the below query we can see the False count is \"1806\" conversions which does not match the criteria."
   ]
  },
  {
   "cell_type": "code",
   "execution_count": 180,
   "metadata": {},
   "outputs": [
    {
     "data": {
      "text/plain": [
       "True     5194\n",
       "False    1806\n",
       "Name: ihc, dtype: int64"
      ]
     },
     "execution_count": 180,
     "metadata": {},
     "output_type": "execute_result"
    }
   ],
   "source": [
    "ab = df4.groupby(['conv_id'])['ihc'].sum()\n",
    "abc = ab == 1\n",
    "abc.value_counts() "
   ]
  }
 ],
 "metadata": {
  "kernelspec": {
   "display_name": "Python 3",
   "language": "python",
   "name": "python3"
  },
  "language_info": {
   "codemirror_mode": {
    "name": "ipython",
    "version": 3
   },
   "file_extension": ".py",
   "mimetype": "text/x-python",
   "name": "python",
   "nbconvert_exporter": "python",
   "pygments_lexer": "ipython3",
   "version": "3.7.3"
  }
 },
 "nbformat": 4,
 "nbformat_minor": 2
}
